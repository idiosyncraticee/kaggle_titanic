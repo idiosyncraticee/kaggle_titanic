{
 "metadata": {
  "name": ""
 },
 "nbformat": 3,
 "nbformat_minor": 0,
 "worksheets": [
  {
   "cells": [
    {
     "cell_type": "code",
     "collapsed": false,
     "input": [
      "import csv as csv \n",
      "import numpy as np"
     ],
     "language": "python",
     "metadata": {},
     "outputs": [],
     "prompt_number": 1
    },
    {
     "cell_type": "code",
     "collapsed": false,
     "input": [
      "# Open up the csv file in to a Python object\n",
      "csv_file_object = csv.reader(open('../csv/train.csv', 'rb')) \n",
      "train_header = csv_file_object.next()  # The next() command just skips the \n",
      "                                 # first line which is a header\n",
      "data=[]                          # Create a variable called 'data'.\n",
      "for row in csv_file_object:      # Run through each row in the csv file,\n",
      "    data.append(row)             # adding each row to the data variable\n",
      "data = np.array(data) \t         # Then convert from a list to an array\n",
      "\t\t\t         # Be aware that each item is currently\n",
      "                                 # a string in this format"
     ],
     "language": "python",
     "metadata": {},
     "outputs": [],
     "prompt_number": 13
    },
    {
     "cell_type": "code",
     "collapsed": false,
     "input": [
      "print data"
     ],
     "language": "python",
     "metadata": {},
     "outputs": [
      {
       "output_type": "stream",
       "stream": "stdout",
       "text": [
        "[['1' '0' '3' ..., '7.25' '' 'S']\n",
        " ['2' '1' '1' ..., '71.2833' 'C85' 'C']\n",
        " ['3' '1' '3' ..., '7.925' '' 'S']\n",
        " ..., \n",
        " ['889' '0' '3' ..., '23.45' '' 'S']\n",
        " ['890' '1' '1' ..., '30' 'C148' 'C']\n",
        " ['891' '0' '3' ..., '7.75' '' 'Q']]\n"
       ]
      }
     ],
     "prompt_number": 3
    },
    {
     "cell_type": "code",
     "collapsed": false,
     "input": [
      "print data[-1]"
     ],
     "language": "python",
     "metadata": {},
     "outputs": [
      {
       "output_type": "stream",
       "stream": "stdout",
       "text": [
        "['891' '0' '3' 'Dooley, Mr. Patrick' 'male' 'adult' '32' '0' '0' '370376'\n",
        " '7.75' '' 'Q']\n"
       ]
      }
     ],
     "prompt_number": 5
    },
    {
     "cell_type": "code",
     "collapsed": false,
     "input": [
      "# The size() function counts how many elements are in\n",
      "# in the array and sum() (as you would expects) sums up\n",
      "# the elements in the array.\n",
      "\n",
      "number_passengers = np.size(data[0::,1].astype(np.float))\n",
      "number_survived = np.sum(data[0::,1].astype(np.float))\n",
      "proportion_survivors = number_survived / number_passengers"
     ],
     "language": "python",
     "metadata": {},
     "outputs": [],
     "prompt_number": 6
    },
    {
     "cell_type": "code",
     "collapsed": false,
     "input": [
      "print proportion_survivors"
     ],
     "language": "python",
     "metadata": {},
     "outputs": [
      {
       "output_type": "stream",
       "stream": "stdout",
       "text": [
        "0.383838383838\n"
       ]
      }
     ],
     "prompt_number": 7
    },
    {
     "cell_type": "code",
     "collapsed": false,
     "input": [
      "women_only_stats = data[0::,4] == \"female\" # This finds where all \n",
      "                                           # the elements in the gender\n",
      "                                           # column that equals \u201cfemale\u201d\n",
      "men_only_stats = data[0::,4] != \"female\"   # This finds where all the \n",
      "                                           # elements do not equal \n",
      "                                           # female (i.e. male)"
     ],
     "language": "python",
     "metadata": {},
     "outputs": [],
     "prompt_number": 8
    },
    {
     "cell_type": "code",
     "collapsed": false,
     "input": [
      "# Using the index from above we select the females and males separately\n",
      "women_onboard = data[women_only_stats,1].astype(np.float)     \n",
      "men_onboard = data[men_only_stats,1].astype(np.float)\n",
      "\n",
      "# Then we finds the proportions of them that survived\n",
      "proportion_women_survived = \\\n",
      "                       np.sum(women_onboard) / np.size(women_onboard)  \n",
      "proportion_men_survived = \\\n",
      "                       np.sum(men_onboard) / np.size(men_onboard) \n",
      "\n",
      "# and then print it out\n",
      "print 'Proportion of women who survived is %s' % proportion_women_survived\n",
      "print 'Proportion of men who survived is %s' % proportion_men_survived"
     ],
     "language": "python",
     "metadata": {},
     "outputs": [
      {
       "output_type": "stream",
       "stream": "stdout",
       "text": [
        "Proportion of women who survived is 0.742038216561\n",
        "Proportion of men who survived is 0.188908145581\n"
       ]
      }
     ],
     "prompt_number": 10
    },
    {
     "cell_type": "code",
     "collapsed": false,
     "input": [
      "test_file = open('../csv/test.csv', 'rb')\n",
      "test_file_object = csv.reader(test_file)\n",
      "test_header = test_file_object.next()"
     ],
     "language": "python",
     "metadata": {},
     "outputs": [],
     "prompt_number": 21
    },
    {
     "cell_type": "code",
     "collapsed": false,
     "input": [
      "prediction_file = open(\"../results/genderbasedmodel.csv\", \"wb\")\n",
      "prediction_file_object = csv.writer(prediction_file)"
     ],
     "language": "python",
     "metadata": {},
     "outputs": [],
     "prompt_number": 22
    },
    {
     "cell_type": "code",
     "collapsed": false,
     "input": [
      "prediction_file_object.writerow([\"PassengerId\", \"Survived\"])\n",
      "for row in test_file_object:       # For each row in test.csv\n",
      "    if row[3] == 'female':         # is it a female, if yes then                                       \n",
      "        prediction_file_object.writerow([row[0],'1'])    # predict 1\n",
      "    else:                              # or else if male,       \n",
      "        prediction_file_object.writerow([row[0],'0'])    # predict 0\n",
      "test_file.close()\n",
      "prediction_file.close()"
     ],
     "language": "python",
     "metadata": {},
     "outputs": [],
     "prompt_number": 23
    },
    {
     "cell_type": "code",
     "collapsed": false,
     "input": [
      "# So we add a ceiling\n",
      "fare_ceiling = 40\n",
      "# then modify the data in the Fare column to = 39, if it is greater or equal to the ceiling\n",
      "data[ data[0::,10].astype(np.float) >= fare_ceiling, 9 ] = fare_ceiling - 1.0\n",
      "\n",
      "fare_bracket_size = 10\n",
      "number_of_price_brackets = fare_ceiling / fare_bracket_size\n",
      "\n",
      "# I know there were 1st, 2nd and 3rd classes on board\n",
      "number_of_classes = 3\n",
      "\n",
      "# But it's better practice to calculate this from the data directly\n",
      "# Take the length of an array of unique values in column index 2\n",
      "number_of_classes = len(np.unique(data[0::,2])) \n",
      "\n",
      "# Initialize the survival table with all zeros\n",
      "survival_table = np.zeros((2, number_of_classes, number_of_price_brackets))"
     ],
     "language": "python",
     "metadata": {},
     "outputs": [
      {
       "ename": "ValueError",
       "evalue": "could not convert string to float: W./C. 6607",
       "output_type": "pyerr",
       "traceback": [
        "\u001b[1;31m---------------------------------------------------------------------------\u001b[0m\n\u001b[1;31mValueError\u001b[0m                                Traceback (most recent call last)",
        "\u001b[1;32m<ipython-input-24-faa61ab45deb>\u001b[0m in \u001b[0;36m<module>\u001b[1;34m()\u001b[0m\n\u001b[0;32m      2\u001b[0m \u001b[0mfare_ceiling\u001b[0m \u001b[1;33m=\u001b[0m \u001b[1;36m40\u001b[0m\u001b[1;33m\u001b[0m\u001b[0m\n\u001b[0;32m      3\u001b[0m \u001b[1;31m# then modify the data in the Fare column to = 39, if it is greater or equal to the ceiling\u001b[0m\u001b[1;33m\u001b[0m\u001b[1;33m\u001b[0m\u001b[0m\n\u001b[1;32m----> 4\u001b[1;33m \u001b[0mdata\u001b[0m\u001b[1;33m[\u001b[0m \u001b[0mdata\u001b[0m\u001b[1;33m[\u001b[0m\u001b[1;36m0\u001b[0m\u001b[1;33m:\u001b[0m\u001b[1;33m:\u001b[0m\u001b[1;33m,\u001b[0m\u001b[1;36m9\u001b[0m\u001b[1;33m]\u001b[0m\u001b[1;33m.\u001b[0m\u001b[0mastype\u001b[0m\u001b[1;33m(\u001b[0m\u001b[0mnp\u001b[0m\u001b[1;33m.\u001b[0m\u001b[0mfloat\u001b[0m\u001b[1;33m)\u001b[0m \u001b[1;33m>=\u001b[0m \u001b[0mfare_ceiling\u001b[0m\u001b[1;33m,\u001b[0m \u001b[1;36m9\u001b[0m \u001b[1;33m]\u001b[0m \u001b[1;33m=\u001b[0m \u001b[0mfare_ceiling\u001b[0m \u001b[1;33m-\u001b[0m \u001b[1;36m1.0\u001b[0m\u001b[1;33m\u001b[0m\u001b[0m\n\u001b[0m\u001b[0;32m      5\u001b[0m \u001b[1;33m\u001b[0m\u001b[0m\n\u001b[0;32m      6\u001b[0m \u001b[0mfare_bracket_size\u001b[0m \u001b[1;33m=\u001b[0m \u001b[1;36m10\u001b[0m\u001b[1;33m\u001b[0m\u001b[0m\n",
        "\u001b[1;31mValueError\u001b[0m: could not convert string to float: W./C. 6607"
       ]
      }
     ],
     "prompt_number": 24
    },
    {
     "cell_type": "code",
     "collapsed": false,
     "input": [],
     "language": "python",
     "metadata": {},
     "outputs": []
    }
   ],
   "metadata": {}
  }
 ]
}