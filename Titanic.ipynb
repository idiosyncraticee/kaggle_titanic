{
 "metadata": {
  "name": ""
 },
 "nbformat": 3,
 "nbformat_minor": 0,
 "worksheets": [
  {
   "cells": [
    {
     "cell_type": "code",
     "collapsed": false,
     "input": [
      "import csv as csv \n",
      "import numpy as np"
     ],
     "language": "python",
     "metadata": {},
     "outputs": [],
     "prompt_number": 39
    },
    {
     "cell_type": "code",
     "collapsed": false,
     "input": [
      "# Open up the csv file in to a Python object\n",
      "csv_file_object = csv.reader(open('../csv/train.csv', 'rb')) \n",
      "train_header = csv_file_object.next()  # The next() command just skips the \n",
      "                                 # first line which is a header\n",
      "data=[]                          # Create a variable called 'data'.\n",
      "for row in csv_file_object:      # Run through each row in the csv file,\n",
      "    data.append(row)             # adding each row to the data variable\n",
      "data = np.array(data) \t         # Then convert from a list to an array\n",
      "\t\t\t         # Be aware that each item is currently\n",
      "                                 # a string in this format"
     ],
     "language": "python",
     "metadata": {},
     "outputs": [],
     "prompt_number": 40
    },
    {
     "cell_type": "code",
     "collapsed": false,
     "input": [
      "print data"
     ],
     "language": "python",
     "metadata": {},
     "outputs": [
      {
       "output_type": "stream",
       "stream": "stdout",
       "text": [
        "[['1' '0' '3' ..., '7.25' '' 'S']\n",
        " ['2' '1' '1' ..., '71.2833' 'C85' 'C']\n",
        " ['3' '1' '3' ..., '7.925' '' 'S']\n",
        " ..., \n",
        " ['889' '0' '3' ..., '23.45' '' 'S']\n",
        " ['890' '1' '1' ..., '30' 'C148' 'C']\n",
        " ['891' '0' '3' ..., '7.75' '' 'Q']]\n"
       ]
      }
     ],
     "prompt_number": 41
    },
    {
     "cell_type": "code",
     "collapsed": false,
     "input": [
      "print data[-1]"
     ],
     "language": "python",
     "metadata": {},
     "outputs": [
      {
       "output_type": "stream",
       "stream": "stdout",
       "text": [
        "['891' '0' '3' 'Dooley, Mr. Patrick' 'male' '32' '0' '0' '370376' '7.75' ''\n",
        " 'Q']\n"
       ]
      }
     ],
     "prompt_number": 42
    },
    {
     "cell_type": "code",
     "collapsed": false,
     "input": [
      "# The size() function counts how many elements are in\n",
      "# in the array and sum() (as you would expects) sums up\n",
      "# the elements in the array.\n",
      "\n",
      "number_passengers = np.size(data[0::,1].astype(np.float))\n",
      "number_survived = np.sum(data[0::,1].astype(np.float))\n",
      "proportion_survivors = number_survived / number_passengers"
     ],
     "language": "python",
     "metadata": {},
     "outputs": [],
     "prompt_number": 43
    },
    {
     "cell_type": "code",
     "collapsed": false,
     "input": [
      "print proportion_survivors"
     ],
     "language": "python",
     "metadata": {},
     "outputs": [
      {
       "output_type": "stream",
       "stream": "stdout",
       "text": [
        "0.383838383838\n"
       ]
      }
     ],
     "prompt_number": 44
    },
    {
     "cell_type": "code",
     "collapsed": false,
     "input": [
      "women_only_stats = data[0::,4] == \"female\" # This finds where all \n",
      "                                           # the elements in the gender\n",
      "                                           # column that equals \u201cfemale\u201d\n",
      "men_only_stats = data[0::,4] != \"female\"   # This finds where all the \n",
      "                                           # elements do not equal \n",
      "                                           # female (i.e. male)"
     ],
     "language": "python",
     "metadata": {},
     "outputs": [],
     "prompt_number": 45
    },
    {
     "cell_type": "code",
     "collapsed": false,
     "input": [
      "# Using the index from above we select the females and males separately\n",
      "women_onboard = data[women_only_stats,1].astype(np.float)     \n",
      "men_onboard = data[men_only_stats,1].astype(np.float)\n",
      "\n",
      "# Then we finds the proportions of them that survived\n",
      "proportion_women_survived = \\\n",
      "                       np.sum(women_onboard) / np.size(women_onboard)  \n",
      "proportion_men_survived = \\\n",
      "                       np.sum(men_onboard) / np.size(men_onboard) \n",
      "\n",
      "# and then print it out\n",
      "print 'Proportion of women who survived is %s' % proportion_women_survived\n",
      "print 'Proportion of men who survived is %s' % proportion_men_survived"
     ],
     "language": "python",
     "metadata": {},
     "outputs": [
      {
       "output_type": "stream",
       "stream": "stdout",
       "text": [
        "Proportion of women who survived is 0.742038216561\n",
        "Proportion of men who survived is 0.188908145581\n"
       ]
      }
     ],
     "prompt_number": 46
    },
    {
     "cell_type": "code",
     "collapsed": false,
     "input": [
      "test_file = open('../csv/test.csv', 'rb')\n",
      "test_file_object = csv.reader(test_file)\n",
      "test_header = test_file_object.next()"
     ],
     "language": "python",
     "metadata": {},
     "outputs": [],
     "prompt_number": 47
    },
    {
     "cell_type": "code",
     "collapsed": false,
     "input": [
      "prediction_file = open(\"../results/genderbasedmodel.csv\", \"wb\")\n",
      "prediction_file_object = csv.writer(prediction_file)"
     ],
     "language": "python",
     "metadata": {},
     "outputs": [],
     "prompt_number": 48
    },
    {
     "cell_type": "code",
     "collapsed": false,
     "input": [
      "prediction_file_object.writerow([\"PassengerId\", \"Survived\"])\n",
      "for row in test_file_object:       # For each row in test.csv\n",
      "    if row[3] == 'female':         # is it a female, if yes then                                       \n",
      "        prediction_file_object.writerow([row[0],'1'])    # predict 1\n",
      "    else:                              # or else if male,       \n",
      "        prediction_file_object.writerow([row[0],'0'])    # predict 0\n",
      "test_file.close()\n",
      "prediction_file.close()"
     ],
     "language": "python",
     "metadata": {},
     "outputs": [],
     "prompt_number": 49
    },
    {
     "cell_type": "code",
     "collapsed": false,
     "input": [
      "# So we add a ceiling\n",
      "fare_ceiling = 40\n",
      "# then modify the data in the Fare column to = 39, if it is greater or equal to the ceiling\n",
      "data[ data[0::,9].astype(np.float) >= fare_ceiling, 9 ] = fare_ceiling - 1.0\n",
      "\n",
      "fare_bracket_size = 10\n",
      "number_of_price_brackets = fare_ceiling / fare_bracket_size\n",
      "\n",
      "# I know there were 1st, 2nd and 3rd classes on board\n",
      "number_of_classes = 3\n",
      "\n",
      "# But it's better practice to calculate this from the data directly\n",
      "# Take the length of an array of unique values in column index 2\n",
      "number_of_classes = len(np.unique(data[0::,2])) \n",
      "\n",
      "# Initialize the survival table with all zeros\n",
      "survival_table = np.zeros((2, number_of_classes, number_of_price_brackets))"
     ],
     "language": "python",
     "metadata": {},
     "outputs": [],
     "prompt_number": 50
    },
    {
     "cell_type": "code",
     "collapsed": false,
     "input": [
      "for i in xrange(number_of_classes):       #loop through each class\n",
      "  for j in xrange(number_of_price_brackets):   #loop through each price bin\n",
      "\n",
      "    women_only_stats = data[                          \\#Which element           \n",
      "                         (data[0::,4] == \"female\")    \\#is a female\n",
      "                       &(data[0::,2].astype(np.float) \\#and was ith class\n",
      "                             == i+1) \\                       \n",
      "                       &(data[0:,9].astype(np.float)  \\#was greater \n",
      "                            >= j*fare_bracket_size)   \\#than this bin              \n",
      "                       &(data[0:,9].astype(np.float)  \\#and less than\n",
      "                            < (j+1)*fare_bracket_size)\\#the next bin    \n",
      "                          , 1]                        #in the 2nd col                           \n",
      " \t\t\t\t\t\t                                    \t\t\t\t\t\t\t\t\t\n",
      "\n",
      "\n",
      "    men_only_stats = data[                            \\#Which element           \n",
      "                         (data[0::,4] != \"female\")    \\#is a male\n",
      "                       &(data[0::,2].astype(np.float) \\#and was ith class\n",
      "                             == i+1)                  \\                     \n",
      "                       &(data[0:,9].astype(np.float)  \\#was greater \n",
      "                            >= j*fare_bracket_size)   \\#than this bin              \n",
      "                       &(data[0:,9].astype(np.float)  \\#and less than\n",
      "                            < (j+1)*fare_bracket_size)\\#the next bin    \n",
      "                          , 1] "
     ],
     "language": "python",
     "metadata": {},
     "outputs": [
      {
       "ename": "SyntaxError",
       "evalue": "unexpected character after line continuation character (<ipython-input-67-677bf95bb43e>, line 4)",
       "output_type": "pyerr",
       "traceback": [
        "\u001b[1;36m  File \u001b[1;32m\"<ipython-input-67-677bf95bb43e>\"\u001b[1;36m, line \u001b[1;32m4\u001b[0m\n\u001b[1;33m    women_only_stats = data[                          \\#Which element\u001b[0m\n\u001b[1;37m                                                                                ^\u001b[0m\n\u001b[1;31mSyntaxError\u001b[0m\u001b[1;31m:\u001b[0m unexpected character after line continuation character\n"
       ]
      }
     ],
     "prompt_number": 67
    },
    {
     "cell_type": "code",
     "collapsed": false,
     "input": [
      "  survival_table[0,i,j] = np.mean(women_only_stats.astype(np.float)) \n",
      "  survival_table[1,i,j] = np.mean(men_only_stats.astype(np.float))"
     ],
     "language": "python",
     "metadata": {},
     "outputs": [],
     "prompt_number": 55
    },
    {
     "cell_type": "code",
     "collapsed": false,
     "input": [
      "survival_table[ survival_table != survival_table ] = 0."
     ],
     "language": "python",
     "metadata": {},
     "outputs": [],
     "prompt_number": 59
    },
    {
     "cell_type": "code",
     "collapsed": false,
     "input": [
      "print survival_table"
     ],
     "language": "python",
     "metadata": {},
     "outputs": [
      {
       "output_type": "stream",
       "stream": "stdout",
       "text": [
        "[[[ 0.     0.     0.     0.   ]\n",
        "  [ 0.     0.     0.     0.   ]\n",
        "  [ 0.     0.     0.     0.125]]\n",
        "\n",
        " [[ 0.     0.     0.     0.   ]\n",
        "  [ 0.     0.     0.     0.   ]\n",
        "  [ 0.     0.     0.     0.24 ]]]\n"
       ]
      }
     ],
     "prompt_number": 60
    },
    {
     "cell_type": "code",
     "collapsed": false,
     "input": [
      "survival_table[ survival_table < 0.5 ] = 0\n",
      "survival_table[ survival_table >= 0.5 ] = 1 "
     ],
     "language": "python",
     "metadata": {},
     "outputs": [],
     "prompt_number": 61
    },
    {
     "cell_type": "code",
     "collapsed": false,
     "input": [
      "print survival_table"
     ],
     "language": "python",
     "metadata": {},
     "outputs": [
      {
       "output_type": "stream",
       "stream": "stdout",
       "text": [
        "[[[ 0.  0.  0.  0.]\n",
        "  [ 0.  0.  0.  0.]\n",
        "  [ 0.  0.  0.  0.]]\n",
        "\n",
        " [[ 0.  0.  0.  0.]\n",
        "  [ 0.  0.  0.  0.]\n",
        "  [ 0.  0.  0.  0.]]]\n"
       ]
      }
     ],
     "prompt_number": 62
    },
    {
     "cell_type": "code",
     "collapsed": false,
     "input": [
      "test_file = open('../csv/test.csv', 'rb')\n",
      "test_file_object = csv.reader(test_file)\n",
      "header = test_file_object.next()\n",
      "predictions_file = open(\"../results/genderclassmodel.csv\", \"wb\")\n",
      "p = csv.writer(predictions_file)\n",
      "p.writerow([\"PassengerId\", \"Survived\"])"
     ],
     "language": "python",
     "metadata": {},
     "outputs": [],
     "prompt_number": 63
    },
    {
     "cell_type": "code",
     "collapsed": false,
     "input": [
      "for row in test_file_object:                 # We are going to loop\n",
      "                                              # through each passenger\n",
      "                                              # in the test set                     \n",
      "  for j in xrange(number_of_price_brackets):  # For each passenger we\n",
      "                                              # loop thro each price bin\n",
      "    try:                                      # Some passengers have no\n",
      "                                              # Fare data so try to make\n",
      "      row[8] = float(row[8])                  # a float\n",
      "    except:                                   # If fails: no data, so \n",
      "      bin_fare = 3 - float(row[1])            # bin the fare according Pclass\n",
      "      break                                   # Break from the loop\n",
      "    if row[8] > fare_ceiling:              # If there is data see if\n",
      "                                              # it is greater than fare\n",
      "                                              # ceiling we set earlier\n",
      "      bin_fare = number_of_price_brackets-1   # If so set to highest bin\n",
      "      break                                   # And then break loop\n",
      "    if row[8] >= j * fare_bracket_size\n",
      "       and row[8] < \n",
      "       (j+1) * fare_bracket_size:             # If passed these tests \n",
      "                                              # then loop through each bin \n",
      "      bin_fare = j                            # then assign index\n",
      "      break   "
     ],
     "language": "python",
     "metadata": {},
     "outputs": [],
     "prompt_number": 64
    },
    {
     "cell_type": "code",
     "collapsed": false,
     "input": [
      "\n",
      "if row[3] == 'female':                             #If the passenger is female\n",
      "        p.writerow([row[0], \"%d\" % \n",
      "                   int(survival_table[0, float(row[1])-1, bin_fare])])\n",
      "    else:                                          #else if male\n",
      "        p.writerow([row[0], \"%d\" % \n",
      "                   int(survival_table[1, float(row[1])-1, bin_fare])])\n",
      "     \n",
      "# Close out the files.\n",
      "test_file.close() \n",
      "predictions_file.close()"
     ],
     "language": "python",
     "metadata": {},
     "outputs": [
      {
       "ename": "IndentationError",
       "evalue": "unindent does not match any outer indentation level (<ipython-input-65-ef1f905bdd6f>, line 4)",
       "output_type": "pyerr",
       "traceback": [
        "\u001b[1;36m  File \u001b[1;32m\"<ipython-input-65-ef1f905bdd6f>\"\u001b[1;36m, line \u001b[1;32m4\u001b[0m\n\u001b[1;33m    else:                                          #else if male\u001b[0m\n\u001b[1;37m                                                                ^\u001b[0m\n\u001b[1;31mIndentationError\u001b[0m\u001b[1;31m:\u001b[0m unindent does not match any outer indentation level\n"
       ]
      }
     ],
     "prompt_number": 65
    },
    {
     "cell_type": "code",
     "collapsed": false,
     "input": [],
     "language": "python",
     "metadata": {},
     "outputs": []
    }
   ],
   "metadata": {}
  }
 ]
}